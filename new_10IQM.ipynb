{
 "cells": [
  {
   "cell_type": "code",
   "execution_count": 1,
   "id": "7b2a82a3",
   "metadata": {},
   "outputs": [],
   "source": [
    "#in the last 10IQM, i didn't normalize the HR images when comparing to soup and synthsr, so I am doing that here"
   ]
  },
  {
   "cell_type": "code",
   "execution_count": 1,
   "id": "95a1650f",
   "metadata": {},
   "outputs": [],
   "source": [
    "#using soup environment, python version 3.7.0\n",
    "import numpy as np\n",
    "import matplotlib.pyplot as plt\n",
    "\n",
    "from utils.myutils import *\n",
    "from pathlib import Path\n",
    "from resize.scipy import resize\n",
    "import nibabel as nib\n",
    "from tqdm import tqdm\n",
    "import pandas as pd\n",
    "\n",
    "\n",
    "import image_similarity_measures\n",
    "from image_similarity_measures.quality_metrics import ssim, psnr,issm,fsim\n",
    "from vif.vif_utils import vif\n",
    "import cpbd"
   ]
  },
  {
   "cell_type": "code",
   "execution_count": 2,
   "id": "c6a3f5b8",
   "metadata": {},
   "outputs": [],
   "source": [
    "#load dataframes \n",
    "vif_df = pd.read_csv('vif_df.csv')\n",
    "ssim_df = pd.read_csv('ssim_df.csv')\n",
    "psnr_df = pd.read_csv('psnr_df.csv')"
   ]
  },
  {
   "cell_type": "code",
   "execution_count": 3,
   "id": "e1cd0a7d",
   "metadata": {},
   "outputs": [],
   "source": [
    "#load HR, soup and synthSR\n",
    "hr_path = Path(\"/iacl/pg22/sam/data/OASIS3/OASIS3_iso/\")\n",
    "hr = list(hr_path.iterdir())\n",
    "hr_list = hr[0:10]\n",
    "\n"
   ]
  },
  {
   "cell_type": "code",
   "execution_count": 4,
   "id": "c746bbe8",
   "metadata": {},
   "outputs": [],
   "source": [
    "#create hr_image list\n",
    "hr_images = []\n",
    "for hr in hr_list:\n",
    "    im = nib.load(hr)\n",
    "    hr_img = im.get_fdata(dtype=np.float32)\n",
    "    hr_images.append(hr_img)"
   ]
  },
  {
   "cell_type": "code",
   "execution_count": 5,
   "id": "1aa3d53f",
   "metadata": {},
   "outputs": [],
   "source": [
    "#kevin list\n",
    "soup_path = Path(\"kevin_out\")\n",
    "soup_list = list(soup_path.iterdir())#right order"
   ]
  },
  {
   "cell_type": "code",
   "execution_count": 6,
   "id": "8fff1dbe",
   "metadata": {},
   "outputs": [],
   "source": [
    "#synthSR list\n",
    "synth_path = Path(\"SynthSR/output/\")\n",
    "synth_list = list(synth_path.iterdir())"
   ]
  },
  {
   "cell_type": "code",
   "execution_count": 7,
   "id": "79c4ddc9",
   "metadata": {},
   "outputs": [],
   "source": [
    "#load normalizer\n",
    "from intensity_normalization.normalize.nyul import NyulNormalize"
   ]
  },
  {
   "cell_type": "code",
   "execution_count": 8,
   "id": "1b2a3476",
   "metadata": {},
   "outputs": [],
   "source": [
    "\n",
    "new_nyul_normalizer = NyulNormalize()\n",
    "new_nyul_normalizer.load_standard_histogram(\"lr20.npy\")"
   ]
  },
  {
   "cell_type": "code",
   "execution_count": 9,
   "id": "b6441370",
   "metadata": {},
   "outputs": [
    {
     "name": "stderr",
     "output_type": "stream",
     "text": [
      "/home/ashley/miniconda3/envs/soup/lib/python3.7/site-packages/intensity_normalization/normalize/base.py:171: UserWarning: Data contains negative values; skull-stripped functionality assumes the foreground is all positive. Provide the brain mask if otherwise.\n",
      "  warnings.warn(msg)\n"
     ]
    }
   ],
   "source": [
    "new_images = []\n",
    "new_synths= []\n",
    "for soup in soup_list:\n",
    "    soup_arr = np.load(soup)\n",
    "    new_images.append(soup_arr)\n",
    "    \n",
    "    \n",
    "for synth in synth_list:\n",
    "    synth_im = nib.load(synth)\n",
    "    synth_img = synth_im.get_fdata(dtype=np.float32)\n",
    "    new_synths.append(synth_img)\n",
    "\n",
    "    \n",
    "soup_normalized = [new_nyul_normalizer(image) for image in new_images]\n",
    "synth_normalized = [new_nyul_normalizer(image) for image in new_synths]\n",
    "hr_normalized = [new_nyul_normalizer(image) for image in hr_images]"
   ]
  },
  {
   "cell_type": "code",
   "execution_count": 10,
   "id": "958607ed",
   "metadata": {},
   "outputs": [],
   "source": [
    "#reshape synthsr image and just cut off edges\n",
    "reshape_synth = []\n",
    "for s in synth_normalized:\n",
    "    reshape_synth.append(s[0:176,0:256,0:256])\n"
   ]
  },
  {
   "cell_type": "code",
   "execution_count": 11,
   "id": "eb1f5ba8",
   "metadata": {},
   "outputs": [],
   "source": [
    "synthsr_vif = []\n",
    "soup_vif = []\n",
    "\n",
    "synthsr_psnr = []\n",
    "soup_psnr = []\n",
    "\n",
    "synthsr_ssim = []\n",
    "soup_ssim = []\n",
    "\n"
   ]
  },
  {
   "cell_type": "code",
   "execution_count": 12,
   "id": "4c2bed94",
   "metadata": {},
   "outputs": [],
   "source": [
    "#calculate vif for 3D volumes, returns the average of slices\n",
    "def vif3d(vol1,vol2):\n",
    "    score = 0\n",
    "    for i in range(vol1.shape[0]):\n",
    "        score += vif(vol1[i,:,:],vol2[i,:,:])\n",
    "    \n",
    "    final = score / vol1.shape[0]\n",
    "    return final"
   ]
  },
  {
   "cell_type": "code",
   "execution_count": 13,
   "id": "ec12a273",
   "metadata": {},
   "outputs": [
    {
     "name": "stderr",
     "output_type": "stream",
     "text": [
      "  0%|                                                    | 0/10 [00:00<?, ?it/s]/home/ashley/miniconda3/envs/soup/lib/python3.7/site-packages/image_similarity_measures/quality_metrics.py:197: FutureWarning: `multichannel` is a deprecated argument name for `structural_similarity`. It will be removed in version 1.0. Please use `channel_axis` instead.\n",
      "  return structural_similarity(org_img, pred_img, data_range=max_p, multichannel=True)\n",
      "100%|███████████████████████████████████████████| 10/10 [12:14<00:00, 73.44s/it]\n"
     ]
    }
   ],
   "source": [
    "for i in tqdm(range(0,10)):\n",
    "    #hr\n",
    "   \n",
    "    hr_img = hr_normalized[i]\n",
    "    name = hr_list[i].name\n",
    "    mp = hr_img.max() - hr_img.min()\n",
    "    \n",
    "    \n",
    "    #synthsr\n",
    "    synth_img = reshape_synth[i]\n",
    "   \n",
    "    #soup\n",
    "    soup_img = soup_normalized[i]\n",
    "    \n",
    "    \n",
    "    #add to vif dataframe\n",
    "    \n",
    "    synthvif = vif3d(hr_img, synth_img)\n",
    "    synthsr_vif.append(synthvif)\n",
    "    \n",
    "    soupvif = vif3d(hr_img, soup_img)\n",
    "    soup_vif.append(soupvif)\n",
    "    \n",
    "    #add to psnr dataframe\n",
    "    \n",
    "    synthp = psnr(hr_img,synth_img, max_p = mp)\n",
    "    synthsr_psnr.append(synthp)\n",
    "    \n",
    "    soupp = psnr(hr_img,soup_img, max_p = mp)\n",
    "    soup_psnr.append(soupp)\n",
    "    \n",
    "    #add ssim\n",
    "    \n",
    "    synths = ssim(hr_img,synth_img, max_p = mp)\n",
    "    synthsr_ssim.append(synths)\n",
    "    \n",
    "    soups = ssim(hr_img,soup_img, max_p = mp)\n",
    "    soup_ssim.append(soups)\n",
    "    \n",
    "    #power/frequency\n",
    "    #add later"
   ]
  },
  {
   "cell_type": "code",
   "execution_count": 14,
   "id": "202e2ffe",
   "metadata": {},
   "outputs": [],
   "source": [
    "vif_df['SynthSR'] = synthsr_vif"
   ]
  },
  {
   "cell_type": "code",
   "execution_count": 15,
   "id": "dd08b6c9",
   "metadata": {},
   "outputs": [],
   "source": [
    "vif_df['Soup_GAN'] = soup_vif"
   ]
  },
  {
   "cell_type": "code",
   "execution_count": 16,
   "id": "ee4768f3",
   "metadata": {},
   "outputs": [],
   "source": [
    "ssim_df['SynthSR'] = synthsr_ssim\n",
    "ssim_df['Soup_GAN'] = soup_ssim"
   ]
  },
  {
   "cell_type": "code",
   "execution_count": 17,
   "id": "ef1ed51c",
   "metadata": {},
   "outputs": [],
   "source": [
    "psnr_df['SynthSR'] = synthsr_psnr\n",
    "psnr_df['Soup_GAN'] = soup_psnr"
   ]
  },
  {
   "cell_type": "code",
   "execution_count": 18,
   "id": "10ee29a9",
   "metadata": {},
   "outputs": [],
   "source": [
    "ssim_df.to_csv('iqm/normal_ssim_df.csv')\n",
    "psnr_df.to_csv('iqm/normal_psnr_df.csv')\n",
    "vif_df.to_csv('iqm/normal_vif_df.csv')"
   ]
  },
  {
   "cell_type": "code",
   "execution_count": 56,
   "id": "cb4190e3",
   "metadata": {},
   "outputs": [
    {
     "data": {
      "text/html": [
       "<div>\n",
       "<style scoped>\n",
       "    .dataframe tbody tr th:only-of-type {\n",
       "        vertical-align: middle;\n",
       "    }\n",
       "\n",
       "    .dataframe tbody tr th {\n",
       "        vertical-align: top;\n",
       "    }\n",
       "\n",
       "    .dataframe thead th {\n",
       "        text-align: right;\n",
       "    }\n",
       "</style>\n",
       "<table border=\"1\" class=\"dataframe\">\n",
       "  <thead>\n",
       "    <tr style=\"text-align: right;\">\n",
       "      <th></th>\n",
       "      <th>Unnamed: 0</th>\n",
       "      <th>Interpolated</th>\n",
       "      <th>SMORE</th>\n",
       "      <th>Soup_GAN</th>\n",
       "      <th>SynthSR</th>\n",
       "    </tr>\n",
       "  </thead>\n",
       "  <tbody>\n",
       "    <tr>\n",
       "      <th>0</th>\n",
       "      <td>0</td>\n",
       "      <td>30.255451</td>\n",
       "      <td>31.499848</td>\n",
       "      <td>29.139385</td>\n",
       "      <td>15.583171</td>\n",
       "    </tr>\n",
       "    <tr>\n",
       "      <th>1</th>\n",
       "      <td>1</td>\n",
       "      <td>31.387608</td>\n",
       "      <td>33.077881</td>\n",
       "      <td>31.388501</td>\n",
       "      <td>21.926898</td>\n",
       "    </tr>\n",
       "    <tr>\n",
       "      <th>2</th>\n",
       "      <td>2</td>\n",
       "      <td>31.117654</td>\n",
       "      <td>32.300282</td>\n",
       "      <td>30.728587</td>\n",
       "      <td>18.310860</td>\n",
       "    </tr>\n",
       "    <tr>\n",
       "      <th>3</th>\n",
       "      <td>3</td>\n",
       "      <td>30.399723</td>\n",
       "      <td>31.886554</td>\n",
       "      <td>29.680880</td>\n",
       "      <td>16.821734</td>\n",
       "    </tr>\n",
       "    <tr>\n",
       "      <th>4</th>\n",
       "      <td>4</td>\n",
       "      <td>33.187909</td>\n",
       "      <td>34.110451</td>\n",
       "      <td>32.497630</td>\n",
       "      <td>20.166243</td>\n",
       "    </tr>\n",
       "    <tr>\n",
       "      <th>5</th>\n",
       "      <td>5</td>\n",
       "      <td>30.507555</td>\n",
       "      <td>32.044382</td>\n",
       "      <td>30.141786</td>\n",
       "      <td>16.071127</td>\n",
       "    </tr>\n",
       "    <tr>\n",
       "      <th>6</th>\n",
       "      <td>6</td>\n",
       "      <td>31.502278</td>\n",
       "      <td>32.839723</td>\n",
       "      <td>31.406216</td>\n",
       "      <td>18.236041</td>\n",
       "    </tr>\n",
       "    <tr>\n",
       "      <th>7</th>\n",
       "      <td>7</td>\n",
       "      <td>30.246048</td>\n",
       "      <td>31.621578</td>\n",
       "      <td>30.000028</td>\n",
       "      <td>19.110516</td>\n",
       "    </tr>\n",
       "    <tr>\n",
       "      <th>8</th>\n",
       "      <td>8</td>\n",
       "      <td>30.252202</td>\n",
       "      <td>31.806643</td>\n",
       "      <td>30.829233</td>\n",
       "      <td>18.171471</td>\n",
       "    </tr>\n",
       "    <tr>\n",
       "      <th>9</th>\n",
       "      <td>9</td>\n",
       "      <td>30.963414</td>\n",
       "      <td>31.870279</td>\n",
       "      <td>30.485334</td>\n",
       "      <td>16.766243</td>\n",
       "    </tr>\n",
       "  </tbody>\n",
       "</table>\n",
       "</div>"
      ],
      "text/plain": [
       "   Unnamed: 0  Interpolated      SMORE   Soup_GAN    SynthSR\n",
       "0           0     30.255451  31.499848  29.139385  15.583171\n",
       "1           1     31.387608  33.077881  31.388501  21.926898\n",
       "2           2     31.117654  32.300282  30.728587  18.310860\n",
       "3           3     30.399723  31.886554  29.680880  16.821734\n",
       "4           4     33.187909  34.110451  32.497630  20.166243\n",
       "5           5     30.507555  32.044382  30.141786  16.071127\n",
       "6           6     31.502278  32.839723  31.406216  18.236041\n",
       "7           7     30.246048  31.621578  30.000028  19.110516\n",
       "8           8     30.252202  31.806643  30.829233  18.171471\n",
       "9           9     30.963414  31.870279  30.485334  16.766243"
      ]
     },
     "execution_count": 56,
     "metadata": {},
     "output_type": "execute_result"
    }
   ],
   "source": [
    "psnr_df"
   ]
  },
  {
   "cell_type": "code",
   "execution_count": null,
   "id": "b8366916",
   "metadata": {},
   "outputs": [],
   "source": [
    "#now plot figure 2"
   ]
  },
  {
   "cell_type": "code",
   "execution_count": 35,
   "id": "5b2f5ded",
   "metadata": {},
   "outputs": [],
   "source": [
    "cpbd_df = pd.read_csv('cpbd_df.csv')\n",
    "cpbd_df.drop('Unnamed: 0', axis=1, inplace=True)"
   ]
  },
  {
   "cell_type": "code",
   "execution_count": 36,
   "id": "50479435",
   "metadata": {},
   "outputs": [],
   "source": [
    "#interp: max: 4, min: 7, median 5&9\n",
    "#smore: min: 0, max: \n",
    "import statistics"
   ]
  },
  {
   "cell_type": "code",
   "execution_count": 58,
   "id": "648e09f1",
   "metadata": {},
   "outputs": [
    {
     "data": {
      "text/plain": [
       "[31.49984836578369,\n",
       " 31.621577739715576,\n",
       " 31.80664300918579,\n",
       " 31.87027931213379,\n",
       " 31.88655376434326,\n",
       " 32.044382095336914,\n",
       " 32.300281524658196,\n",
       " 32.839722633361816,\n",
       " 33.07788133621216,\n",
       " 34.110450744628906]"
      ]
     },
     "execution_count": 58,
     "metadata": {},
     "output_type": "execute_result"
    }
   ],
   "source": [
    "tmp = list(psnr_df['SMORE'])\n",
    "tmp.sort()\n",
    "tmp"
   ]
  },
  {
   "cell_type": "code",
   "execution_count": 54,
   "id": "8bfe9bda",
   "metadata": {},
   "outputs": [],
   "source": [
    "tmp.sort()"
   ]
  },
  {
   "cell_type": "code",
   "execution_count": 55,
   "id": "f56c8a65",
   "metadata": {},
   "outputs": [
    {
     "data": {
      "text/plain": [
       "[30.24604797363281,\n",
       " 30.252201557159424,\n",
       " 30.255451202392575,\n",
       " 30.39972305297852,\n",
       " 30.50755500793457,\n",
       " 30.96341371536255,\n",
       " 31.117653846740726,\n",
       " 31.38760805130005,\n",
       " 31.502277851104736,\n",
       " 33.18790912628174]"
      ]
     },
     "execution_count": 55,
     "metadata": {},
     "output_type": "execute_result"
    }
   ],
   "source": [
    "tmp"
   ]
  },
  {
   "cell_type": "code",
   "execution_count": 36,
   "id": "dbd0245a",
   "metadata": {},
   "outputs": [],
   "source": [
    "#plotting figure 1\n",
    "import seaborn as sns"
   ]
  },
  {
   "cell_type": "code",
   "execution_count": 37,
   "id": "55d1d794",
   "metadata": {},
   "outputs": [],
   "source": [
    "sns.set_theme(style=\"whitegrid\")"
   ]
  },
  {
   "cell_type": "code",
   "execution_count": 38,
   "id": "d5b6c7f6",
   "metadata": {},
   "outputs": [
    {
     "data": {
      "text/plain": [
       "Index(['Unnamed: 0', 'Interpolated', 'SMORE', 'Soup_GAN', 'SynthSR'], dtype='object')"
      ]
     },
     "execution_count": 38,
     "metadata": {},
     "output_type": "execute_result"
    }
   ],
   "source": [
    "ssim_df.columns"
   ]
  },
  {
   "cell_type": "code",
   "execution_count": 39,
   "id": "5236a30a",
   "metadata": {},
   "outputs": [],
   "source": [
    "ssim_df.drop('Unnamed: 0', axis=1, inplace=True)"
   ]
  },
  {
   "cell_type": "code",
   "execution_count": 40,
   "id": "358cb57f",
   "metadata": {},
   "outputs": [
    {
     "data": {
      "image/png": "[encoded data removed]",
      "text/plain": [
       "<Figure size 432x288 with 1 Axes>"
      ]
     },
     "metadata": {},
     "output_type": "display_data"
    }
   ],
   "source": [
    "ax1 = sns.boxplot(data=ssim_df)"
   ]
  },
  {
   "cell_type": "code",
   "execution_count": 41,
   "id": "685b9aa8",
   "metadata": {},
   "outputs": [],
   "source": [
    "psnr_df.drop('Unnamed: 0', axis=1, inplace=True)"
   ]
  },
  {
   "cell_type": "code",
   "execution_count": 42,
   "id": "cda9ece8",
   "metadata": {},
   "outputs": [
    {
     "data": {
      "image/png": "[encoded data removed]",
      "text/plain": [
       "<Figure size 432x288 with 1 Axes>"
      ]
     },
     "metadata": {},
     "output_type": "display_data"
    }
   ],
   "source": [
    "ax2 = sns.boxplot(data=psnr_df)"
   ]
  },
  {
   "cell_type": "code",
   "execution_count": 43,
   "id": "37847a08",
   "metadata": {},
   "outputs": [],
   "source": [
    "vif_df.drop('Unnamed: 0', axis=1, inplace=True)"
   ]
  },
  {
   "cell_type": "code",
   "execution_count": 44,
   "id": "8a059278",
   "metadata": {},
   "outputs": [
    {
     "data": {
      "image/png": "[encoded data removed]",
      "text/plain": [
       "<Figure size 432x288 with 1 Axes>"
      ]
     },
     "metadata": {},
     "output_type": "display_data"
    }
   ],
   "source": [
    "ax3 = sns.boxplot(data=vif_df)"
   ]
  },
  {
   "cell_type": "code",
   "execution_count": 45,
   "id": "182f3784",
   "metadata": {},
   "outputs": [],
   "source": [
    "cpbd_df = pd.read_csv('cpbd_df.csv')"
   ]
  },
  {
   "cell_type": "code",
   "execution_count": 46,
   "id": "efc69814",
   "metadata": {},
   "outputs": [],
   "source": [
    "cpbd_df.drop('Unnamed: 0', axis=1, inplace=True)"
   ]
  },
  {
   "cell_type": "code",
   "execution_count": 47,
   "id": "23c58e0f",
   "metadata": {},
   "outputs": [],
   "source": [
    "my_pal = {'GT':\"m\",'Interpolated': \"b\",'SMORE':sns.color_palette()[1],'Soup_GAN': \"g\",'SynthSR':\"r\"}\n"
   ]
  },
  {
   "cell_type": "code",
   "execution_count": 48,
   "id": "a9e391e1",
   "metadata": {},
   "outputs": [],
   "source": [
    "temp = cpbd_df['GT']"
   ]
  },
  {
   "cell_type": "code",
   "execution_count": 49,
   "id": "81d92c20",
   "metadata": {},
   "outputs": [
    {
     "data": {
      "text/plain": [
       "0    0.698039\n",
       "1    0.703282\n",
       "2    0.692453\n",
       "3    0.694005\n",
       "4    0.682082\n",
       "5    0.716631\n",
       "6    0.730335\n",
       "7    0.713583\n",
       "8    0.701388\n",
       "9    0.740426\n",
       "Name: GT, dtype: float64"
      ]
     },
     "execution_count": 49,
     "metadata": {},
     "output_type": "execute_result"
    }
   ],
   "source": [
    "temp"
   ]
  },
  {
   "cell_type": "code",
   "execution_count": 50,
   "id": "46d48d8f",
   "metadata": {},
   "outputs": [],
   "source": [
    "cpbd_df.drop('GT', axis=1, inplace=True)"
   ]
  },
  {
   "cell_type": "code",
   "execution_count": 51,
   "id": "5039d69e",
   "metadata": {},
   "outputs": [],
   "source": [
    "cpbd_df['GT'] = temp"
   ]
  },
  {
   "cell_type": "code",
   "execution_count": 52,
   "id": "d18e0d62",
   "metadata": {},
   "outputs": [
    {
     "data": {
      "text/html": [
       "<div>\n",
       "<style scoped>\n",
       "    .dataframe tbody tr th:only-of-type {\n",
       "        vertical-align: middle;\n",
       "    }\n",
       "\n",
       "    .dataframe tbody tr th {\n",
       "        vertical-align: top;\n",
       "    }\n",
       "\n",
       "    .dataframe thead th {\n",
       "        text-align: right;\n",
       "    }\n",
       "</style>\n",
       "<table border=\"1\" class=\"dataframe\">\n",
       "  <thead>\n",
       "    <tr style=\"text-align: right;\">\n",
       "      <th></th>\n",
       "      <th>Interpolated</th>\n",
       "      <th>SMORE</th>\n",
       "      <th>Soup_GAN</th>\n",
       "      <th>SynthSR</th>\n",
       "      <th>GT</th>\n",
       "    </tr>\n",
       "  </thead>\n",
       "  <tbody>\n",
       "    <tr>\n",
       "      <th>0</th>\n",
       "      <td>0.012979</td>\n",
       "      <td>0.134858</td>\n",
       "      <td>0.335283</td>\n",
       "      <td>0.281637</td>\n",
       "      <td>0.698039</td>\n",
       "    </tr>\n",
       "    <tr>\n",
       "      <th>1</th>\n",
       "      <td>0.008577</td>\n",
       "      <td>0.125285</td>\n",
       "      <td>0.313904</td>\n",
       "      <td>0.134227</td>\n",
       "      <td>0.703282</td>\n",
       "    </tr>\n",
       "    <tr>\n",
       "      <th>2</th>\n",
       "      <td>0.010089</td>\n",
       "      <td>0.111252</td>\n",
       "      <td>0.301689</td>\n",
       "      <td>0.124892</td>\n",
       "      <td>0.692453</td>\n",
       "    </tr>\n",
       "    <tr>\n",
       "      <th>3</th>\n",
       "      <td>0.013334</td>\n",
       "      <td>0.171785</td>\n",
       "      <td>0.316655</td>\n",
       "      <td>0.284313</td>\n",
       "      <td>0.694005</td>\n",
       "    </tr>\n",
       "    <tr>\n",
       "      <th>4</th>\n",
       "      <td>0.005242</td>\n",
       "      <td>0.085141</td>\n",
       "      <td>0.288314</td>\n",
       "      <td>0.119060</td>\n",
       "      <td>0.682082</td>\n",
       "    </tr>\n",
       "    <tr>\n",
       "      <th>5</th>\n",
       "      <td>0.017344</td>\n",
       "      <td>0.152494</td>\n",
       "      <td>0.336078</td>\n",
       "      <td>0.282129</td>\n",
       "      <td>0.716631</td>\n",
       "    </tr>\n",
       "    <tr>\n",
       "      <th>6</th>\n",
       "      <td>0.023477</td>\n",
       "      <td>0.170864</td>\n",
       "      <td>0.343692</td>\n",
       "      <td>0.272202</td>\n",
       "      <td>0.730335</td>\n",
       "    </tr>\n",
       "    <tr>\n",
       "      <th>7</th>\n",
       "      <td>0.005983</td>\n",
       "      <td>0.110057</td>\n",
       "      <td>0.301246</td>\n",
       "      <td>0.230334</td>\n",
       "      <td>0.713583</td>\n",
       "    </tr>\n",
       "    <tr>\n",
       "      <th>8</th>\n",
       "      <td>0.011492</td>\n",
       "      <td>0.134268</td>\n",
       "      <td>0.325503</td>\n",
       "      <td>0.297483</td>\n",
       "      <td>0.701388</td>\n",
       "    </tr>\n",
       "    <tr>\n",
       "      <th>9</th>\n",
       "      <td>0.006215</td>\n",
       "      <td>0.099931</td>\n",
       "      <td>0.301251</td>\n",
       "      <td>0.292204</td>\n",
       "      <td>0.740426</td>\n",
       "    </tr>\n",
       "  </tbody>\n",
       "</table>\n",
       "</div>"
      ],
      "text/plain": [
       "   Interpolated     SMORE  Soup_GAN   SynthSR        GT\n",
       "0      0.012979  0.134858  0.335283  0.281637  0.698039\n",
       "1      0.008577  0.125285  0.313904  0.134227  0.703282\n",
       "2      0.010089  0.111252  0.301689  0.124892  0.692453\n",
       "3      0.013334  0.171785  0.316655  0.284313  0.694005\n",
       "4      0.005242  0.085141  0.288314  0.119060  0.682082\n",
       "5      0.017344  0.152494  0.336078  0.282129  0.716631\n",
       "6      0.023477  0.170864  0.343692  0.272202  0.730335\n",
       "7      0.005983  0.110057  0.301246  0.230334  0.713583\n",
       "8      0.011492  0.134268  0.325503  0.297483  0.701388\n",
       "9      0.006215  0.099931  0.301251  0.292204  0.740426"
      ]
     },
     "execution_count": 52,
     "metadata": {},
     "output_type": "execute_result"
    }
   ],
   "source": [
    "cpbd_df"
   ]
  },
  {
   "cell_type": "code",
   "execution_count": 53,
   "id": "5cf0cb1f",
   "metadata": {},
   "outputs": [
    {
     "data": {
      "image/png": "[encoded data removed]",
      "text/plain": [
       "<Figure size 432x288 with 1 Axes>"
      ]
     },
     "metadata": {},
     "output_type": "display_data"
    }
   ],
   "source": [
    "ax4 = sns.boxplot(data=cpbd_df, palette=my_pal)"
   ]
  },
  {
   "cell_type": "code",
   "execution_count": 54,
   "id": "bb423d22",
   "metadata": {},
   "outputs": [],
   "source": [
    "ssim_fig = ax1.get_figure()\n",
    "psnr_fig = ax2.get_figure()\n",
    "vif_fig = ax3.get_figure()\n",
    "cpbd_fig = ax4.get_figure()"
   ]
  },
  {
   "cell_type": "code",
   "execution_count": 55,
   "id": "0044c7b7",
   "metadata": {},
   "outputs": [],
   "source": [
    "ssim_fig.savefig('images/ssim_boxplot.png',dpi = 300)\n",
    "psnr_fig.savefig('images/psnr_boxplot.png',dpi = 300)\n",
    "vif_fig.savefig('images/vif_boxplot.png',dpi = 300)\n",
    "cpbd_fig.savefig('images/cpbd_boxplot.png',dpi = 300)\n"
   ]
  }
 ],
 "metadata": {
  "kernelspec": {
   "display_name": "Python 3 (ipykernel)",
   "language": "python",
   "name": "python3"
  },
  "language_info": {
   "codemirror_mode": {
    "name": "ipython",
    "version": 3
   },
   "file_extension": ".py",
   "mimetype": "text/x-python",
   "name": "python",
   "nbconvert_exporter": "python",
   "pygments_lexer": "ipython3",
   "version": "3.7.0"
  }
 },
 "nbformat": 4,
 "nbformat_minor": 5
}
