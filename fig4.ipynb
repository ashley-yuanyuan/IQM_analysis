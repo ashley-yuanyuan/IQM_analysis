{
 "cells": [
  {
   "cell_type": "code",
   "execution_count": 20,
   "id": "634e19df",
   "metadata": {},
   "outputs": [],
   "source": [
    "#using soup environment, python version 3.7.0\n",
    "import numpy as np\n",
    "import matplotlib.pyplot as plt\n",
    "\n",
    "from utils.myutils import *\n",
    "from pathlib import Path\n",
    "from resize.scipy import resize\n",
    "import nibabel as nib\n",
    "from tqdm import tqdm\n",
    "import pandas as pd\n",
    "\n",
    "import copy"
   ]
  },
  {
   "cell_type": "code",
   "execution_count": 21,
   "id": "0698256d",
   "metadata": {},
   "outputs": [],
   "source": [
    "hr = np.load('pwr/hr.npy')\n",
    "lr = np.load('pwr/lr.npy')\n",
    "sm = np.load('pwr/sm.npy')\n",
    "soup = np.load('pwr/soup.npy')\n",
    "synth = np.load('pwr/synth.npy')"
   ]
  },
  {
   "cell_type": "code",
   "execution_count": 22,
   "id": "072130dd",
   "metadata": {},
   "outputs": [],
   "source": [
    "hr_c,hr_r = map(list,zip(*hr))\n",
    "lr_c,lr_r = map(list,zip(*lr))\n",
    "sm_c,sm_r = map(list,zip(*sm))\n",
    "soup_c,soup_r = map(list,zip(*soup))\n",
    "synth_c,synth_r = map(list,zip(*synth))"
   ]
  },
  {
   "cell_type": "code",
   "execution_count": 23,
   "id": "2dd6e310",
   "metadata": {},
   "outputs": [],
   "source": [
    "#find the average\n",
    "hrc = sum(hr_c)/len(hr_c)\n",
    "hrr = sum(hr_r)/len(hr_r)\n",
    "lrc = sum(lr_c)/len(lr_c)\n",
    "lrr = sum(lr_r)/len(lr_r)\n",
    "smc = sum(sm_c)/len(sm_c)\n",
    "smr = sum(sm_r)/len(sm_r)\n",
    "soupc = sum(soup_c)/len(soup_c)\n",
    "soupr = sum(soup_r)/len(soup_r)\n",
    "synthc = sum(synth_c)/len(synth_c)\n",
    "synthr = sum(synth_r)/len(synth_r)"
   ]
  },
  {
   "cell_type": "code",
   "execution_count": 5,
   "id": "54bbba4f",
   "metadata": {},
   "outputs": [],
   "source": [
    "new_df = pd.DataFrame(index = range(0,10),columns=['Data','Type','Method','SD'])"
   ]
  },
  {
   "cell_type": "code",
   "execution_count": 24,
   "id": "333c38d5",
   "metadata": {},
   "outputs": [],
   "source": [
    "new_df.iloc[8] = [hrc,'center','Ground Truth',np.std(hr_c,ddof = 1)]\n",
    "new_df.iloc[9] = [hrr,'rim','Ground Truth',np.std(hr_r,ddof = 1)]\n",
    "new_df.iloc[0] = [lrc,'center','Interpolated',np.std(lr_c,ddof = 1)]\n",
    "new_df.iloc[1] = [lrr,'rim','Interpolated',np.std(lr_r,ddof = 1)]\n",
    "new_df.iloc[2] = [smc,'center','SMORE',np.std(sm_c,ddof = 1)]\n",
    "new_df.iloc[3] = [smr,'rim','SMORE',np.std(sm_r,ddof = 1)]\n",
    "new_df.iloc[4] = [soupc,'center','Soup_GAN',np.std(soup_c,ddof = 1)]\n",
    "new_df.iloc[5] = [soupr,'rim','Soup_GAN',np.std(soup_r,ddof = 1)]\n",
    "new_df.iloc[6] = [synthc,'center','SynthSR',np.std(synth_c,ddof = 1)]\n",
    "new_df.iloc[7] = [synthr,'rim','SynthSR', np.std(synth_r,ddof = 1)]"
   ]
  },
  {
   "cell_type": "code",
   "execution_count": 25,
   "id": "d4b41415",
   "metadata": {},
   "outputs": [],
   "source": [
    "import seaborn as sns"
   ]
  },
  {
   "cell_type": "code",
   "execution_count": 26,
   "id": "1cb78b14",
   "metadata": {},
   "outputs": [
    {
     "name": "stderr",
     "output_type": "stream",
     "text": [
      "/home/ashley/miniconda3/envs/soup/lib/python3.7/site-packages/ipykernel_launcher.py:7: UserWarning: Attempted to set non-positive bottom ylim on a log-scaled axis.\n",
      "Invalid limit will be ignored.\n",
      "  import sys\n"
     ]
    },
    {
     "data": {
      "text/plain": [
       "(70815642220.95905, 13000000000000.0)"
      ]
     },
     "execution_count": 26,
     "metadata": {},
     "output_type": "execute_result"
    },
    {
     "data": {
      "image/png": "[encoded data removed]",
      "text/plain": [
       "<Figure size 432x288 with 1 Axes>"
      ]
     },
     "metadata": {},
     "output_type": "display_data"
    }
   ],
   "source": [
    "sns.set_theme(style=\"whitegrid\")\n",
    "ax = sns.barplot(data=new_df, x=\"Type\", y=\"Data\", hue=\"Method\")\n",
    "x_coords = [p.get_x() + 0.5*p.get_width() for p in ax.patches]\n",
    "y_coords = [p.get_height() for p in ax.patches]\n",
    "plt.errorbar(x=x_coords, y=y_coords, yerr=new_df[\"SD\"], fmt=\"none\", c= \"k\")\n",
    "plt.yscale('log')\n",
    "plt.ylim(0,1.3e+13)\n",
    "\n"
   ]
  },
  {
   "cell_type": "code",
   "execution_count": 27,
   "id": "a5a72233",
   "metadata": {},
   "outputs": [
    {
     "data": {
      "text/plain": [
       "<Figure size 432x288 with 0 Axes>"
      ]
     },
     "metadata": {},
     "output_type": "display_data"
    }
   ],
   "source": [
    "plt.savefig('images/center_power.png',dpi=300)"
   ]
  },
  {
   "cell_type": "code",
   "execution_count": 30,
   "id": "1ddf09df",
   "metadata": {},
   "outputs": [],
   "source": [
    "hr = np.load('pwr/coronalhr.npy')\n",
    "lr = np.load('pwr/coronallr.npy')\n",
    "sm = np.load('pwr/coronalsm.npy')\n",
    "soup = np.load('pwr/coronalsoup.npy')\n",
    "synth = np.load('pwr/coronalsynth.npy')"
   ]
  },
  {
   "cell_type": "code",
   "execution_count": 31,
   "id": "785c6e03",
   "metadata": {},
   "outputs": [],
   "source": [
    "hr_c,hr_r = map(list,zip(*hr))\n",
    "lr_c,lr_r = map(list,zip(*lr))\n",
    "sm_c,sm_r = map(list,zip(*sm))\n",
    "soup_c,soup_r = map(list,zip(*soup))\n",
    "synth_c, synth_r = map(list,zip(*synth))"
   ]
  },
  {
   "cell_type": "code",
   "execution_count": 32,
   "id": "8e6c4c5f",
   "metadata": {},
   "outputs": [],
   "source": [
    "hrc = sum(hr_c)/len(hr_c)\n",
    "hrr = sum(hr_r)/len(hr_r)\n",
    "lrc = sum(lr_c)/len(lr_c)\n",
    "lrr = sum(lr_r)/len(lr_r)\n",
    "smc = sum(sm_c)/len(sm_c)\n",
    "smr = sum(sm_r)/len(sm_r)\n",
    "soupc = sum(soup_c)/len(soup_c)\n",
    "soupr = sum(soup_r)/len(soup_r)\n",
    "synthc = sum(synth_c)/len(synth_c)\n",
    "synthr = sum(synth_r)/len(synth_r)"
   ]
  },
  {
   "cell_type": "code",
   "execution_count": 33,
   "id": "c211bf59",
   "metadata": {},
   "outputs": [],
   "source": [
    "new_df = pd.DataFrame(index = range(0,10),columns=['Data','Type','Method','SD'])"
   ]
  },
  {
   "cell_type": "code",
   "execution_count": 34,
   "id": "ad4a8137",
   "metadata": {},
   "outputs": [
    {
     "data": {
      "text/plain": [
       "[99528441273.42436,\n",
       " 98914833798.56235,\n",
       " 98689688993.35892,\n",
       " 103303601491.3079,\n",
       " 101499363986.54156,\n",
       " 100719995594.16222,\n",
       " 100871795819.99869,\n",
       " 98763034390.26843,\n",
       " 105276956981.29445,\n",
       " 94993045809.20135]"
      ]
     },
     "execution_count": 34,
     "metadata": {},
     "output_type": "execute_result"
    }
   ],
   "source": [
    "hr_c"
   ]
  },
  {
   "cell_type": "code",
   "execution_count": 35,
   "id": "8c9ebb96",
   "metadata": {},
   "outputs": [],
   "source": [
    "new_df.iloc[8] = [hrc,'center','Ground Truth',np.std(hr_c,ddof = 1)]\n",
    "new_df.iloc[9] = [hrr,'rim','Ground Truth',np.std(hr_r,ddof = 1)]\n",
    "new_df.iloc[0] = [lrc,'center','Interpolated',np.std(lr_c,ddof = 1)]\n",
    "new_df.iloc[1] = [lrr,'rim','Interpolated',np.std(lr_r,ddof = 1)]\n",
    "new_df.iloc[2] = [smc,'center','SMORE',np.std(sm_c,ddof = 1)]\n",
    "new_df.iloc[3] = [smr,'rim','SMORE',np.std(sm_r,ddof = 1)]\n",
    "new_df.iloc[4] = [soupc,'center','Soup_GAN',np.std(soup_c,ddof = 1)]\n",
    "new_df.iloc[5] = [soupr,'rim','Soup_GAN',np.std(soup_r,ddof = 1)]\n",
    "new_df.iloc[6] = [synthc,'center','SynthSR',np.std(synth_c,ddof = 1)]\n",
    "new_df.iloc[7] = [synthr,'rim','SynthSR', np.std(synth_r,ddof = 1)]"
   ]
  },
  {
   "cell_type": "code",
   "execution_count": 36,
   "id": "ac7e5df1",
   "metadata": {},
   "outputs": [],
   "source": [
    "import seaborn as sns"
   ]
  },
  {
   "cell_type": "code",
   "execution_count": null,
   "id": "ad4348c4",
   "metadata": {},
   "outputs": [
    {
     "name": "stderr",
     "output_type": "stream",
     "text": [
      "/home/ashley/miniconda3/envs/soup/lib/python3.7/site-packages/ipykernel_launcher.py:7: UserWarning: Attempted to set non-positive bottom ylim on a log-scaled axis.\n",
      "Invalid limit will be ignored.\n",
      "  import sys\n"
     ]
    },
    {
     "data": {
      "text/plain": [
       "(45858552280.622246, 13000000000000.0)"
      ]
     },
     "execution_count": 37,
     "metadata": {},
     "output_type": "execute_result"
    }
   ],
   "source": [
    "sns.set_theme(style=\"whitegrid\")\n",
    "ax = sns.barplot(data=new_df, x=\"Type\", y=\"Data\", hue=\"Method\")\n",
    "x_coords = [p.get_x() + 0.5*p.get_width() for p in ax.patches]\n",
    "y_coords = [p.get_height() for p in ax.patches]\n",
    "plt.errorbar(x=x_coords, y=y_coords, yerr=new_df[\"SD\"], fmt=\"none\", c= \"k\")\n",
    "plt.yscale('log')\n",
    "plt.ylim(0,1.3e+13)"
   ]
  },
  {
   "cell_type": "code",
   "execution_count": null,
   "id": "513411c0",
   "metadata": {},
   "outputs": [],
   "source": []
  },
  {
   "cell_type": "code",
   "execution_count": null,
   "id": "1c98e7fc",
   "metadata": {},
   "outputs": [],
   "source": []
  },
  {
   "cell_type": "code",
   "execution_count": null,
   "id": "af63a55d",
   "metadata": {},
   "outputs": [],
   "source": []
  },
  {
   "cell_type": "code",
   "execution_count": 9,
   "id": "c13c57a7",
   "metadata": {},
   "outputs": [],
   "source": [
    "from matplotlib import cycler\n",
    "def set_display_mode(mode='dark', figsize=(16, 9), fontsize=18):\n",
    "    plt.rcParams['figure.figsize'] = figsize\n",
    "    plt.rcParams['font.size'] = fontsize\n",
    "    plt.rcParams['image.cmap'] = 'Greys_r'\n",
    "    plt.rcParams['font.family'] = 'serif'\n",
    "    plt.rcParams['image.interpolation'] = 'nearest'\n",
    "    if mode == 'dark':\n",
    "        bg_color = 'black'\n",
    "        fg_color = 'white'\n",
    "    else:\n",
    "        bg_color = 'white'\n",
    "        fg_color = 'black'\n",
    "    plt.rcParams['figure.facecolor'] = bg_color\n",
    "    plt.rcParams['axes.facecolor'] = bg_color\n",
    "    plt.rcParams['axes.edgecolor'] = fg_color\n",
    "    plt.rcParams['axes.prop_cycle'] = cycler(color=[fg_color]) \n",
    "    plt.rcParams['text.color'] = fg_color\n",
    "    plt.rcParams['axes.labelcolor'] = fg_color\n",
    "    plt.rcParams['xtick.color'] = fg_color\n",
    "    plt.rcParams['ytick.color'] = fg_color"
   ]
  },
  {
   "cell_type": "code",
   "execution_count": 18,
   "id": "d8fc0e34",
   "metadata": {},
   "outputs": [],
   "source": [
    "#x is the entire volume\n",
    "#size is the number of slices in the volume\n",
    "def calculate_magnitude(vol,size,sag,epsilon=1e-8):\n",
    "    cent_list= []\n",
    "    rim_list = []\n",
    "    \n",
    "    for i in range(0,size):\n",
    "        if(sag == True):\n",
    "            x = vol[i,:,:] #sagital\n",
    "        else:\n",
    "            x = vol[:,i,:]\n",
    "        \n",
    "        x_fft = np.fft.fftshift(np.fft.fftn(x))\n",
    "        x_mag = np.zeros(x_fft.shape)\n",
    "\n",
    "        #finding the magnitude from fft, store in x_mag\n",
    "        for m,f in zip(x_mag, x_fft):# a row in x_fft\n",
    "            for j in range(len(m)): # each pixel in row\n",
    "                m[j] = np.abs(f[j])  \n",
    "\n",
    "        #decibels\n",
    "        lr_dim = 64\n",
    "        x_db = np.zeros(x_mag.shape)\n",
    "        for m, d in zip(x_mag, x_db):\n",
    "            for k in range(len(d)):\n",
    "                d[k] = 20*math.log10(m[k]+epsilon)\n",
    "\n",
    "        cent = x_db[3*(lr_dim//2):5*(lr_dim//2), 3*(lr_dim//2):5*(lr_dim//2)]\n",
    "        cent_pwr = (cent.sum())**2\n",
    "\n",
    "        temp = copy.deepcopy(x_db)\n",
    "        temp[lr_dim:3*lr_dim, lr_dim:3*lr_dim] = 0\n",
    "        rim_pwr = (temp.sum())**2\n",
    "        \n",
    "        cent_list.append(cent_pwr)\n",
    "        rim_list.append(rim_pwr)\n",
    "    \n",
    "    \n",
    "    avg_cent = sum(cent_list) / len(cent_list)\n",
    "    avg_rim = sum(rim_list) / len(rim_list)\n",
    "    \n",
    "    return (avg_cent,avg_rim)\n",
    "\n",
    "#sm_center, sm_rim = calculate_magnitude(sm_db,64)"
   ]
  },
  {
   "cell_type": "code",
   "execution_count": 19,
   "id": "13a0c2c6",
   "metadata": {},
   "outputs": [],
   "source": [
    "#do experiment on 10 subjects\n",
    "#hr and lr images are in the same order\n",
    "hr_path = Path(\"/iacl/pg22/sam/data/OASIS3/OASIS3_iso/\")\n",
    "lr_path = Path(\"/iacl/pg22/sam/data/OASIS3/OASIS3_LR/04-skip-00\")\n",
    "hr = list(hr_path.iterdir())\n",
    "lr = list(lr_path.iterdir())\n",
    "hr_list = hr[0:10]\n",
    "lr_list = lr[0:10]\n",
    "\n"
   ]
  },
  {
   "cell_type": "code",
   "execution_count": 20,
   "id": "a8862955",
   "metadata": {},
   "outputs": [],
   "source": [
    "#create hr_image list\n",
    "hr_images = []\n",
    "for hr in hr_list:\n",
    "    im = nib.load(hr)\n",
    "    hr_img = im.get_fdata(dtype=np.float32)\n",
    "    hr_images.append(hr_img)\n",
    "\n",
    "ratio = 256/64\n",
    "lr_images = []\n",
    "for lr in lr_list:\n",
    "    im = nib.load(lr)\n",
    "    lr_img = im.get_fdata(dtype=np.float32)\n",
    "    \n",
    "    #lr resample\n",
    "    lr_upsampled = resize(lr_img,dxyz=(1,1,1/ratio), order=3)\n",
    "    lr_images.append(lr_upsampled)\n",
    "    "
   ]
  },
  {
   "cell_type": "code",
   "execution_count": 21,
   "id": "55b6d006",
   "metadata": {},
   "outputs": [],
   "source": [
    "#smore list\n",
    "sm_path = Path(\"/iacl/pg22/ashley/order_output/\")\n",
    "sm_list = list(sm_path.iterdir()) #order is not right\n",
    "sm_images=[]\n",
    "\n",
    "#rearrange sm_list manually\n",
    "order = [2,1,7,5,4,8,3,6,0,9]\n",
    "\n",
    "sm_ordered_list = []\n",
    "for num in order:\n",
    "    sm_ordered_list.append(sm_list[num])\n",
    "\n",
    "    \n",
    "for sm in sm_ordered_list:\n",
    "    im = nib.load(sm)\n",
    "    sm_img = im.get_fdata(dtype=np.float32)\n",
    "    sm_images.append(sm_img)\n",
    "\n",
    "#kevin list\n",
    "soup_path = Path(\"kevin_out\")\n",
    "soup_list = list(soup_path.iterdir())#right order\n",
    "\n",
    "#synthSR list\n",
    "synth_path = Path(\"SynthSR/output/\")\n",
    "synth_list = list(synth_path.iterdir())"
   ]
  },
  {
   "cell_type": "code",
   "execution_count": 22,
   "id": "10b7eac4",
   "metadata": {},
   "outputs": [
    {
     "name": "stderr",
     "output_type": "stream",
     "text": [
      "/home/ashley/miniconda3/envs/soup/lib/python3.7/site-packages/intensity_normalization/normalize/base.py:171: UserWarning: Data contains negative values; skull-stripped functionality assumes the foreground is all positive. Provide the brain mask if otherwise.\n",
      "  warnings.warn(msg)\n"
     ]
    }
   ],
   "source": [
    "from intensity_normalization.normalize.nyul import NyulNormalize\n",
    "new_nyul_normalizer = NyulNormalize()\n",
    "new_nyul_normalizer.load_standard_histogram(\"lr20.npy\")\n",
    "\n",
    "new_images = []\n",
    "new_synths= []\n",
    "for soup in soup_list:\n",
    "    soup_arr = np.load(soup)\n",
    "    new_images.append(soup_arr)\n",
    "    \n",
    "    \n",
    "for synth in synth_list:\n",
    "    synth_im = nib.load(synth)\n",
    "    synth_img = synth_im.get_fdata(dtype=np.float32)\n",
    "    new_synths.append(synth_img)\n",
    "\n",
    "    \n",
    "soup_normalized = [new_nyul_normalizer(image) for image in new_images]\n",
    "synth_normalized = [new_nyul_normalizer(image) for image in new_synths]\n"
   ]
  },
  {
   "cell_type": "code",
   "execution_count": 23,
   "id": "8641e5ab",
   "metadata": {},
   "outputs": [],
   "source": [
    "reshape_synth = []\n",
    "for s in synth_normalized:\n",
    "    reshape_synth.append(s[0:176,0:256,0:256])"
   ]
  },
  {
   "cell_type": "code",
   "execution_count": 24,
   "id": "d3cb1dad",
   "metadata": {},
   "outputs": [],
   "source": [
    "df = pd.DataFrame(columns=['Interpolated','SMORE','Soup_GAN','SynthSR','GT'])"
   ]
  },
  {
   "cell_type": "code",
   "execution_count": 25,
   "id": "8242b71b",
   "metadata": {},
   "outputs": [],
   "source": [
    "hr_pwr = []\n",
    "for im in hr_images:\n",
    "    pwr = calculate_magnitude(im,176,False)\n",
    "    hr_pwr.append(pwr)"
   ]
  },
  {
   "cell_type": "code",
   "execution_count": 26,
   "id": "19ef20b1",
   "metadata": {},
   "outputs": [],
   "source": [
    "lr_pwr = []\n",
    "for im in lr_images:\n",
    "    pwr = calculate_magnitude(im,176,False)\n",
    "    lr_pwr.append(pwr)"
   ]
  },
  {
   "cell_type": "code",
   "execution_count": 27,
   "id": "ebfdc65a",
   "metadata": {},
   "outputs": [],
   "source": [
    "sm_pwr = []\n",
    "for im in sm_images:\n",
    "    pwr = calculate_magnitude(im,176,False)\n",
    "    sm_pwr.append(pwr)"
   ]
  },
  {
   "cell_type": "code",
   "execution_count": 28,
   "id": "2be7231d",
   "metadata": {},
   "outputs": [],
   "source": [
    "soup_pwr = []\n",
    "\n",
    "for im in soup_normalized:\n",
    "    pwr = calculate_magnitude(im,176,False)\n",
    "    soup_pwr.append(pwr)"
   ]
  },
  {
   "cell_type": "code",
   "execution_count": 29,
   "id": "f6910b6f",
   "metadata": {},
   "outputs": [],
   "source": [
    "synth_pwr = []\n",
    "for im in reshape_synth:\n",
    "    pwr = calculate_magnitude(im,176,False)\n",
    "    synth_pwr.append(pwr)"
   ]
  },
  {
   "cell_type": "code",
   "execution_count": 30,
   "id": "756a94ee",
   "metadata": {},
   "outputs": [],
   "source": [
    "np.save('pwr/coronalhr.npy', hr_pwr, allow_pickle=True)\n",
    "np.save('pwr/coronallr.npy', lr_pwr, allow_pickle=True)\n",
    "np.save('pwr/coronalsm.npy', sm_pwr, allow_pickle=True)\n",
    "np.save('pwr/coronalsoup.npy', soup_pwr, allow_pickle=True)\n",
    "np.save('pwr/coronalsynth.npy', synth_pwr, allow_pickle=True)"
   ]
  },
  {
   "cell_type": "code",
   "execution_count": 31,
   "id": "62ac74a3",
   "metadata": {},
   "outputs": [],
   "source": [
    "hr_c,hr_r = map(list,zip(*hr_pwr))\n",
    "lr_c,lr_r = map(list,zip(*lr_pwr))\n",
    "sm_c,sm_r = map(list,zip(*sm_pwr))\n",
    "soup_c,soup_r = map(list,zip(*soup_pwr))\n",
    "synth_c, synth_r = map(list,zip(*synth_pwr))"
   ]
  },
  {
   "cell_type": "code",
   "execution_count": 32,
   "id": "1e9ae816",
   "metadata": {},
   "outputs": [],
   "source": [
    "hrc = sum(hr_c)/len(hr_c)\n",
    "hrr = sum(hr_r)/len(hr_r)\n",
    "lrc = sum(lr_c)/len(lr_c)\n",
    "lrr = sum(lr_r)/len(lr_r)\n",
    "smc = sum(sm_c)/len(sm_c)\n",
    "smr = sum(sm_r)/len(sm_r)\n",
    "soupc = sum(soup_c)/len(soup_c)\n",
    "soupr = sum(soup_r)/len(soup_r)\n",
    "synthc = sum(synth_c)/len(synth_c)\n",
    "synthr = sum(synth_r)/len(synth_r)"
   ]
  },
  {
   "cell_type": "code",
   "execution_count": 33,
   "id": "01768fb2",
   "metadata": {},
   "outputs": [],
   "source": [
    "new_df = pd.DataFrame(index = range(0,10),columns=['Data','Type','Method'])"
   ]
  },
  {
   "cell_type": "code",
   "execution_count": 34,
   "id": "6374fd43",
   "metadata": {},
   "outputs": [],
   "source": [
    "new_df.iloc[8] = [hrc,'center','Ground Truth']\n",
    "new_df.iloc[9] = [hrr,'rim','Ground Truth']\n",
    "new_df.iloc[0] = [lrc,'center','Interpolated']\n",
    "new_df.iloc[1] = [lrr,'rim','Interpolated']\n",
    "new_df.iloc[2] = [smc,'center','SMORE']\n",
    "new_df.iloc[3] = [smr,'rim','SMORE']\n",
    "new_df.iloc[4] = [soupc,'center','Soup_GAN']\n",
    "new_df.iloc[5] = [soupr,'rim','Soup_GAN']\n",
    "new_df.iloc[6] = [synthc,'center','SynthSR']\n",
    "new_df.iloc[7] = [synthr,'rim','SynthSR']"
   ]
  },
  {
   "cell_type": "code",
   "execution_count": 37,
   "id": "fd3832c1",
   "metadata": {},
   "outputs": [
    {
     "data": {
      "image/png": "[encoded data removed]",
      "text/plain": [
       "<Figure size 654.875x500 with 1 Axes>"
      ]
     },
     "metadata": {},
     "output_type": "display_data"
    }
   ],
   "source": [
    "import seaborn as sns\n",
    "sns.set_theme(style=\"whitegrid\")\n",
    "\n",
    "sns.catplot(x='Type',y = 'Data',hue = 'Method',kind='bar', data=new_df)\n",
    "plt.yscale('log')\n",
    "#plt.yscale('log')\n",
    "plt.savefig('images/coronal_center_power.png',dpi=300)\n"
   ]
  },
  {
   "cell_type": "code",
   "execution_count": 36,
   "id": "27d79ae3",
   "metadata": {},
   "outputs": [
    {
     "data": {
      "text/plain": [
       "<Figure size 640x480 with 0 Axes>"
      ]
     },
     "metadata": {},
     "output_type": "display_data"
    }
   ],
   "source": [
    "plt.savefig('images/coronal_center_power.png',dpi=300)"
   ]
  },
  {
   "cell_type": "code",
   "execution_count": null,
   "id": "b7e624e0",
   "metadata": {},
   "outputs": [],
   "source": []
  }
 ],
 "metadata": {
  "kernelspec": {
   "display_name": "Python 3 (ipykernel)",
   "language": "python",
   "name": "python3"
  },
  "language_info": {
   "codemirror_mode": {
    "name": "ipython",
    "version": 3
   },
   "file_extension": ".py",
   "mimetype": "text/x-python",
   "name": "python",
   "nbconvert_exporter": "python",
   "pygments_lexer": "ipython3",
   "version": "3.7.0"
  }
 },
 "nbformat": 4,
 "nbformat_minor": 5
}
