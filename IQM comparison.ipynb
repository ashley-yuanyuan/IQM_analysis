{
 "cells": [
  {
   "cell_type": "code",
   "execution_count": 1,
   "id": "441d9de8",
   "metadata": {},
   "outputs": [],
   "source": [
    "#using soup environment, python version 3.7.0\n",
    "import numpy as np\n",
    "import matplotlib.pyplot as plt\n",
    "\n",
    "from utils.myutils import *\n",
    "from pathlib import Path\n",
    "from resize.scipy import resize\n",
    "import nibabel as nib\n",
    "\n",
    "import pandas as pd"
   ]
  },
  {
   "cell_type": "code",
   "execution_count": 2,
   "id": "e3f25088",
   "metadata": {},
   "outputs": [],
   "source": [
    "#----load images----- subject:04-skip-00/sub-OAS30167_ses-d0111_T1w"
   ]
  },
  {
   "cell_type": "code",
   "execution_count": 3,
   "id": "5ee97c5e",
   "metadata": {},
   "outputs": [],
   "source": [
    "df = pd.DataFrame(columns=['Name','PSNR','SSIM','VIF','cpbd'])"
   ]
  },
  {
   "cell_type": "code",
   "execution_count": 4,
   "id": "c87f6c1b",
   "metadata": {},
   "outputs": [],
   "source": [
    "#HR\n",
    "hr_path =\"/iacl/pg22/sam/data/OASIS3/OASIS3_iso/sub-OAS30167_ses-d0111_T1w.nii.gz\"\n",
    "hr = nib.load(hr_path)\n",
    "hr_img = hr.get_fdata(dtype=np.float32)\n",
    "hr_slice = hr_img[88,:,:]"
   ]
  },
  {
   "cell_type": "code",
   "execution_count": 5,
   "id": "a2e514b4",
   "metadata": {},
   "outputs": [],
   "source": [
    "lr_path =\"/iacl/pg22/sam/data/OASIS3/OASIS3_LR/04-skip-00/sub-OAS30167_ses-d0111_T1w.nii.gz\"\n",
    "lr = nib.load(lr_path)\n",
    "lr_img = lr.get_fdata(dtype=np.float32)\n",
    "\n",
    "ratio = 256/64\n",
    "lr_slice_upsampled = resize(lr_img[88,:,:], dxyz=(1,1/ratio), order=3) #upscale by 4, order = 3\n",
    "lr_upsampled = resize(lr_img,dxyz=(1,1,1/ratio), order=3 )"
   ]
  },
  {
   "cell_type": "code",
   "execution_count": 6,
   "id": "4ba29b24",
   "metadata": {},
   "outputs": [],
   "source": [
    "#synthSR output\n",
    "path = \"./SynthSR/”synthSR_out”.nii\"\n",
    "obj = nib.load(path)\n",
    "synthSR = obj.get_fdata(dtype=np.float32)\n",
    "#WARNING: reshape synthSR\n",
    "synthSR_resized = synthSR[:,:,0:256]"
   ]
  },
  {
   "cell_type": "code",
   "execution_count": 7,
   "id": "f19be31d",
   "metadata": {},
   "outputs": [],
   "source": [
    "#smore\n",
    "ash_dir = Path(\"/iacl/pg22/ashley/data/results/04-skip-00/sub-OAS30167_ses-d0111_T1w\")\n",
    "sm_img_path = ash_dir/\"sub-OAS30167_ses-d0111_T1w_smore3.nii.gz\"\n",
    "obj3 = nib.load(sm_img_path)\n",
    "sm_img = obj3.get_fdata(dtype=np.float32)\n",
    "sm_slice = sm_img[88,:,:]\n"
   ]
  },
  {
   "cell_type": "code",
   "execution_count": 8,
   "id": "daa4597d",
   "metadata": {},
   "outputs": [],
   "source": [
    "#kevin soup gan is a np array of the 3D brain volume\n",
    "soup_arr = np.load(\"04-skip-00-sub-OAS30167_ses-d0111_T1w-kevinSR.npy\")"
   ]
  },
  {
   "cell_type": "code",
   "execution_count": 9,
   "id": "ddd982f3",
   "metadata": {},
   "outputs": [],
   "source": [
    "#try VIF, FSIM, (NQM), CPBD, (LPC-SI), (FID), NIQE, (MMD), PSNR, SSIM, and the new frequency power method"
   ]
  },
  {
   "cell_type": "code",
   "execution_count": 10,
   "id": "36dd029a",
   "metadata": {},
   "outputs": [],
   "source": [
    "#other methods (PSNR, SSIM, ISSM, FSIM)(this package also includes RMSE, SRE, SAM, and UIQ)\n",
    "import image_similarity_measures\n",
    "from image_similarity_measures.quality_metrics import ssim, psnr,issm,fsim"
   ]
  },
  {
   "cell_type": "code",
   "execution_count": 11,
   "id": "696b213d",
   "metadata": {},
   "outputs": [],
   "source": [
    "#import vif\n",
    "from vif.vif_utils import vif\n",
    "#vif(hr_img[88,:,:],sm_slice)"
   ]
  },
  {
   "cell_type": "code",
   "execution_count": 12,
   "id": "770cafeb",
   "metadata": {},
   "outputs": [],
   "source": [
    "#cpbd only works with 2D images and with values from (0-255)\n",
    "#this is a non-reference image quality measurement\n",
    "\n",
    "import cpbd\n"
   ]
  },
  {
   "cell_type": "code",
   "execution_count": 13,
   "id": "fc7855c6",
   "metadata": {},
   "outputs": [],
   "source": [
    "#calculate vif for 3D volumes, returns the average of slices\n",
    "def vif3d(vol1,vol2):\n",
    "    score = 0\n",
    "    for i in range(vol1.shape[0]):\n",
    "        score += vif(vol1[i,:,:],vol2[i,:,:])\n",
    "    \n",
    "    final = score / vol1.shape[0]\n",
    "    return final"
   ]
  },
  {
   "cell_type": "code",
   "execution_count": 14,
   "id": "92135774",
   "metadata": {},
   "outputs": [],
   "source": [
    "#calculate vif for 3D volumes, returns the average of the slices\n",
    "def cpbd3d(vol):\n",
    "    score = 0\n",
    "    for i in range(vol.shape[0]):\n",
    "        score += cpbd.compute(vol[i,:,:])\n",
    "    final = score / vol.shape[0]\n",
    "    return final"
   ]
  },
  {
   "cell_type": "code",
   "execution_count": 67,
   "id": "bdc17ab2",
   "metadata": {},
   "outputs": [],
   "source": [
    "#def freq_pwr(vol):\n",
    "    \n",
    "    #return (inner, outer)"
   ]
  },
  {
   "cell_type": "code",
   "execution_count": 15,
   "id": "ab2d254c",
   "metadata": {},
   "outputs": [],
   "source": [
    "#un-normalized images\n",
    "dict = {'Name':'GT','PSNR':'NA','SSIM':'NA','VIF':'NA','cpbd':cpbd3d(normalize(hr_img,255))}\n",
    "\n",
    "df = df.append(dict, ignore_index = True)\n"
   ]
  },
  {
   "cell_type": "code",
   "execution_count": 16,
   "id": "04d4e3c7",
   "metadata": {},
   "outputs": [
    {
     "name": "stderr",
     "output_type": "stream",
     "text": [
      "/home/ashley/miniconda3/envs/soup/lib/python3.7/site-packages/image_similarity_measures/quality_metrics.py:197: FutureWarning: `multichannel` is a deprecated argument name for `structural_similarity`. It will be removed in version 1.0. Please use `channel_axis` instead.\n",
      "  return structural_similarity(org_img, pred_img, data_range=max_p, multichannel=True)\n"
     ]
    }
   ],
   "source": [
    "dict = {'Name':'Interpolated','PSNR':psnr(hr_img, lr_upsampled),'SSIM':ssim(hr_img, lr_upsampled),\n",
    "        'VIF':vif3d(hr_img, lr_upsampled),'cpbd':cpbd3d(normalize(lr_upsampled,255))}\n",
    "df = df.append(dict, ignore_index = True)\n",
    "                    \n",
    "dict = {'Name':'Smore','PSNR':psnr(hr_img, sm_img),'SSIM':ssim(hr_img, sm_img),\n",
    "        'VIF':vif3d(hr_img, sm_img),'cpbd':cpbd3d(normalize(sm_img,255))}\n",
    "df = df.append(dict, ignore_index = True)\n",
    "                    \n",
    "dict = {'Name':'Soup','PSNR':psnr(hr_img, soup_arr),'SSIM':ssim(hr_img, soup_arr),\n",
    "        'VIF':vif3d(hr_img, soup_arr),'cpbd':cpbd3d(normalize(soup_arr,255))}\n",
    "df = df.append(dict, ignore_index = True)\n",
    "\n",
    "\n",
    "dict = {'Name':'SynthSR','PSNR':psnr(hr_img, synthSR_resized),'SSIM':ssim(hr_img,synthSR_resized),\n",
    "        'VIF':vif3d(hr_img, synthSR_resized),'cpbd':cpbd3d(normalize(synthSR_resized,255))}\n",
    "df = df.append(dict, ignore_index = True)\n"
   ]
  },
  {
   "cell_type": "code",
   "execution_count": 17,
   "id": "99fecb8f",
   "metadata": {},
   "outputs": [
    {
     "data": {
      "text/html": [
       "<div>\n",
       "<style scoped>\n",
       "    .dataframe tbody tr th:only-of-type {\n",
       "        vertical-align: middle;\n",
       "    }\n",
       "\n",
       "    .dataframe tbody tr th {\n",
       "        vertical-align: top;\n",
       "    }\n",
       "\n",
       "    .dataframe thead th {\n",
       "        text-align: right;\n",
       "    }\n",
       "</style>\n",
       "<table border=\"1\" class=\"dataframe\">\n",
       "  <thead>\n",
       "    <tr style=\"text-align: right;\">\n",
       "      <th></th>\n",
       "      <th>Name</th>\n",
       "      <th>PSNR</th>\n",
       "      <th>SSIM</th>\n",
       "      <th>VIF</th>\n",
       "      <th>cpbd</th>\n",
       "    </tr>\n",
       "  </thead>\n",
       "  <tbody>\n",
       "    <tr>\n",
       "      <th>0</th>\n",
       "      <td>GT</td>\n",
       "      <td>NA</td>\n",
       "      <td>NA</td>\n",
       "      <td>NA</td>\n",
       "      <td>0.709286</td>\n",
       "    </tr>\n",
       "    <tr>\n",
       "      <th>1</th>\n",
       "      <td>Interpolated</td>\n",
       "      <td>44.0223</td>\n",
       "      <td>0.972035</td>\n",
       "      <td>0.600754</td>\n",
       "      <td>0.008143</td>\n",
       "    </tr>\n",
       "    <tr>\n",
       "      <th>2</th>\n",
       "      <td>Smore</td>\n",
       "      <td>45.533</td>\n",
       "      <td>0.980694</td>\n",
       "      <td>0.693891</td>\n",
       "      <td>0.124268</td>\n",
       "    </tr>\n",
       "    <tr>\n",
       "      <th>3</th>\n",
       "      <td>Soup</td>\n",
       "      <td>8.24501</td>\n",
       "      <td>0.25017</td>\n",
       "      <td>0.560005</td>\n",
       "      <td>0.299377</td>\n",
       "    </tr>\n",
       "    <tr>\n",
       "      <th>4</th>\n",
       "      <td>SynthSR</td>\n",
       "      <td>31.8923</td>\n",
       "      <td>0.776052</td>\n",
       "      <td>0.115372</td>\n",
       "      <td>0.124220</td>\n",
       "    </tr>\n",
       "  </tbody>\n",
       "</table>\n",
       "</div>"
      ],
      "text/plain": [
       "           Name     PSNR      SSIM       VIF      cpbd\n",
       "0            GT       NA        NA        NA  0.709286\n",
       "1  Interpolated  44.0223  0.972035  0.600754  0.008143\n",
       "2         Smore   45.533  0.980694  0.693891  0.124268\n",
       "3          Soup  8.24501   0.25017  0.560005  0.299377\n",
       "4       SynthSR  31.8923  0.776052  0.115372  0.124220"
      ]
     },
     "execution_count": 17,
     "metadata": {},
     "output_type": "execute_result"
    }
   ],
   "source": [
    "df"
   ]
  },
  {
   "cell_type": "code",
   "execution_count": 19,
   "id": "ab4dd9bd",
   "metadata": {},
   "outputs": [],
   "source": [
    "#does this normalization improve the quality of the ouput images?\n",
    "#if we only use it on soup_gan or synthSR, then we can say we've enhanced their performance\n",
    "#do we also normalize the original HR image?\n",
    "from intensity_normalization.normalize.nyul import NyulNormalize"
   ]
  },
  {
   "cell_type": "code",
   "execution_count": 21,
   "id": "d8b24bc1",
   "metadata": {},
   "outputs": [
    {
     "name": "stderr",
     "output_type": "stream",
     "text": [
      "/home/ashley/miniconda3/envs/soup/lib/python3.7/site-packages/intensity_normalization/normalize/base.py:171: UserWarning: Data contains negative values; skull-stripped functionality assumes the foreground is all positive. Provide the brain mask if otherwise.\n",
      "  warnings.warn(msg)\n"
     ]
    }
   ],
   "source": [
    "#normalize to 20 04-skip-00 low resolution images\n",
    "#warning: \"Data contains negative values\"\n",
    "img_path =Path(\"/iacl/pg22/sam/data/OASIS3/OASIS3_LR/04-skip-00\")\n",
    "img_paths = list(img_path.iterdir())\n",
    "images = []\n",
    "for i in range(0,20):\n",
    "    images.append(nib.load(img_paths[i]))\n",
    "\n",
    "nyul_normalizer = NyulNormalize()\n",
    "nyul_normalizer.fit(images) \n",
    "normalized = [nyul_normalizer(image) for image in images]\n",
    "nyul_normalizer.save_standard_histogram(\"standard_histogram.npy\")\n"
   ]
  },
  {
   "cell_type": "code",
   "execution_count": 22,
   "id": "64750cc9",
   "metadata": {},
   "outputs": [],
   "source": [
    "#try to normalize soup_arr and synthSR\n",
    "new_images = []\n",
    "new_images.append(soup_arr)\n",
    "new_images.append(synthSR_resized)\n",
    "new_images.append(hr_img)\n",
    "new_images.append(lr_upsampled)\n",
    "new_images.append(sm_img)\n",
    "normalized = [nyul_normalizer(image) for image in new_images]\n",
    "n_soup,n_synthsr,n_hr,n_lr,n_sm = normalized[0],normalized[1],normalized[2],normalized[3],normalized[4]\n"
   ]
  },
  {
   "cell_type": "code",
   "execution_count": 23,
   "id": "57ef0b3a",
   "metadata": {},
   "outputs": [],
   "source": [
    "n_df = pd.DataFrame(columns=['Name','PSNR','SSIM','VIF','cpbd'])\n"
   ]
  },
  {
   "cell_type": "code",
   "execution_count": 24,
   "id": "aac84c4c",
   "metadata": {},
   "outputs": [
    {
     "name": "stderr",
     "output_type": "stream",
     "text": [
      "/home/ashley/miniconda3/envs/soup/lib/python3.7/site-packages/image_similarity_measures/quality_metrics.py:197: FutureWarning: `multichannel` is a deprecated argument name for `structural_similarity`. It will be removed in version 1.0. Please use `channel_axis` instead.\n",
      "  return structural_similarity(org_img, pred_img, data_range=max_p, multichannel=True)\n"
     ]
    }
   ],
   "source": [
    "dict = {'Name':'GT','PSNR':'NA','SSIM':'NA','VIF':'NA','cpbd':cpbd3d(normalize(n_hr,255))}\n",
    "\n",
    "n_df = n_df.append(dict, ignore_index = True)\n",
    "\n",
    "dict = {'Name':'Interpolated','PSNR':psnr(n_hr, n_lr),'SSIM':ssim(n_hr, n_lr),\n",
    "        'VIF':vif3d(n_hr, n_lr),'cpbd':cpbd3d(normalize(n_lr,255))}\n",
    "n_df = n_df.append(dict, ignore_index = True)\n",
    "                    \n",
    "dict = {'Name':'Smore','PSNR':psnr(n_hr, n_sm),'SSIM':ssim(n_hr, n_sm),\n",
    "        'VIF':vif3d(n_hr, n_sm),'cpbd':cpbd3d(normalize(n_sm,255))}\n",
    "n_df = n_df.append(dict, ignore_index = True)\n",
    "                    \n",
    "dict = {'Name':'Soup','PSNR':psnr(n_hr, n_soup),'SSIM':ssim(n_hr, n_soup),\n",
    "        'VIF':vif3d(n_hr, n_soup),'cpbd':cpbd3d(normalize(n_soup,255))}\n",
    "n_df = n_df.append(dict, ignore_index = True)\n",
    "\n",
    "\n",
    "dict = {'Name':'SynthSR','PSNR':psnr(n_hr, n_synthsr),'SSIM':ssim(n_hr, n_synthsr),\n",
    "        'VIF':vif3d(n_hr, n_synthsr),'cpbd':cpbd3d(normalize(n_synthsr,255))}\n",
    "n_df = n_df.append(dict, ignore_index = True)"
   ]
  },
  {
   "cell_type": "code",
   "execution_count": 25,
   "id": "b0e72a45",
   "metadata": {},
   "outputs": [
    {
     "data": {
      "text/html": [
       "<div>\n",
       "<style scoped>\n",
       "    .dataframe tbody tr th:only-of-type {\n",
       "        vertical-align: middle;\n",
       "    }\n",
       "\n",
       "    .dataframe tbody tr th {\n",
       "        vertical-align: top;\n",
       "    }\n",
       "\n",
       "    .dataframe thead th {\n",
       "        text-align: right;\n",
       "    }\n",
       "</style>\n",
       "<table border=\"1\" class=\"dataframe\">\n",
       "  <thead>\n",
       "    <tr style=\"text-align: right;\">\n",
       "      <th></th>\n",
       "      <th>Name</th>\n",
       "      <th>PSNR</th>\n",
       "      <th>SSIM</th>\n",
       "      <th>VIF</th>\n",
       "      <th>cpbd</th>\n",
       "    </tr>\n",
       "  </thead>\n",
       "  <tbody>\n",
       "    <tr>\n",
       "      <th>0</th>\n",
       "      <td>GT</td>\n",
       "      <td>NA</td>\n",
       "      <td>NA</td>\n",
       "      <td>NA</td>\n",
       "      <td>0.720351</td>\n",
       "    </tr>\n",
       "    <tr>\n",
       "      <th>1</th>\n",
       "      <td>Interpolated</td>\n",
       "      <td>57.1316</td>\n",
       "      <td>0.997032</td>\n",
       "      <td>0.744029</td>\n",
       "      <td>0.009395</td>\n",
       "    </tr>\n",
       "    <tr>\n",
       "      <th>2</th>\n",
       "      <td>Smore</td>\n",
       "      <td>58.6361</td>\n",
       "      <td>0.997977</td>\n",
       "      <td>0.842365</td>\n",
       "      <td>0.122641</td>\n",
       "    </tr>\n",
       "    <tr>\n",
       "      <th>3</th>\n",
       "      <td>Soup</td>\n",
       "      <td>56.8145</td>\n",
       "      <td>0.996708</td>\n",
       "      <td>0.63699</td>\n",
       "      <td>0.305655</td>\n",
       "    </tr>\n",
       "    <tr>\n",
       "      <th>4</th>\n",
       "      <td>SynthSR</td>\n",
       "      <td>43.4881</td>\n",
       "      <td>0.924478</td>\n",
       "      <td>0.173019</td>\n",
       "      <td>0.139890</td>\n",
       "    </tr>\n",
       "  </tbody>\n",
       "</table>\n",
       "</div>"
      ],
      "text/plain": [
       "           Name     PSNR      SSIM       VIF      cpbd\n",
       "0            GT       NA        NA        NA  0.720351\n",
       "1  Interpolated  57.1316  0.997032  0.744029  0.009395\n",
       "2         Smore  58.6361  0.997977  0.842365  0.122641\n",
       "3          Soup  56.8145  0.996708   0.63699  0.305655\n",
       "4       SynthSR  43.4881  0.924478  0.173019  0.139890"
      ]
     },
     "execution_count": 25,
     "metadata": {},
     "output_type": "execute_result"
    }
   ],
   "source": [
    "n_df"
   ]
  },
  {
   "cell_type": "code",
   "execution_count": null,
   "id": "b78509b4",
   "metadata": {},
   "outputs": [],
   "source": []
  }
 ],
 "metadata": {
  "kernelspec": {
   "display_name": "Python 3 (ipykernel)",
   "language": "python",
   "name": "python3"
  },
  "language_info": {
   "codemirror_mode": {
    "name": "ipython",
    "version": 3
   },
   "file_extension": ".py",
   "mimetype": "text/x-python",
   "name": "python",
   "nbconvert_exporter": "python",
   "pygments_lexer": "ipython3",
   "version": "3.7.0"
  }
 },
 "nbformat": 4,
 "nbformat_minor": 5
}
